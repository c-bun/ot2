{
 "cells": [
  {
   "cell_type": "code",
   "execution_count": 5,
   "metadata": {},
   "outputs": [
    {
     "name": "stdout",
     "output_type": "stream",
     "text": [
      "Transferring 10.0 from A1 of CELLTREAT 96 Well Plate 350 µL on 3 to A1 of Opentrons 24 Tube Rack with NEST 1.5 mL Snapcap on 1\n",
      "\tPicking up tip from A1 of Opentrons 96 Tip Rack 20 µL on 11\n",
      "\tAspirating 10.0 uL from A1 of CELLTREAT 96 Well Plate 350 µL on 3 at 7.56 uL/sec\n",
      "\tDispensing 10.0 uL into A1 of Opentrons 24 Tube Rack with NEST 1.5 mL Snapcap on 1 at 7.56 uL/sec\n",
      "\tDropping tip into A1 of Opentrons Fixed Trash on 12\n",
      "Transferring 10.0 from B1 of CELLTREAT 96 Well Plate 350 µL on 4 to A1 of Opentrons 24 Tube Rack with NEST 1.5 mL Snapcap on 1\n",
      "\tPicking up tip from B1 of Opentrons 96 Tip Rack 20 µL on 11\n",
      "\tAspirating 10.0 uL from B1 of CELLTREAT 96 Well Plate 350 µL on 4 at 7.56 uL/sec\n",
      "\tDispensing 10.0 uL into A1 of Opentrons 24 Tube Rack with NEST 1.5 mL Snapcap on 1 at 7.56 uL/sec\n",
      "\tDropping tip into A1 of Opentrons Fixed Trash on 12\n",
      "Transferring 10.0 from D3 of CELLTREAT 96 Well Plate 350 µL on 3 to B1 of Opentrons 24 Tube Rack with NEST 1.5 mL Snapcap on 1\n",
      "\tPicking up tip from C1 of Opentrons 96 Tip Rack 20 µL on 11\n",
      "\tAspirating 10.0 uL from D3 of CELLTREAT 96 Well Plate 350 µL on 3 at 7.56 uL/sec\n",
      "\tDispensing 10.0 uL into B1 of Opentrons 24 Tube Rack with NEST 1.5 mL Snapcap on 1 at 7.56 uL/sec\n",
      "\tDropping tip into A1 of Opentrons Fixed Trash on 12\n"
     ]
    }
   ],
   "source": [
    "from opentrons.simulate import simulate, format_runlog\n",
    "from collections import Counter\n",
    "\n",
    "log, _bundle = simulate(open(\"../ot2/cherry_pick.py\"))\n",
    "#print(Counter(format_runlog(log).split(\" \"))['Picking'])\n",
    "print(format_runlog(log))\n"
   ]
  }
 ],
 "metadata": {
  "interpreter": {
   "hash": "f4fa40d9441a23eb44e49822149c66233a1f9a39703445772420ec0399fb88ec"
  },
  "kernelspec": {
   "display_name": "Python 3.8.5 ('ot2-Sl_yvcit-py3.8')",
   "language": "python",
   "name": "python3"
  },
  "language_info": {
   "codemirror_mode": {
    "name": "ipython",
    "version": 3
   },
   "file_extension": ".py",
   "mimetype": "text/x-python",
   "name": "python",
   "nbconvert_exporter": "python",
   "pygments_lexer": "ipython3",
   "version": "3.8.5"
  },
  "orig_nbformat": 4
 },
 "nbformat": 4,
 "nbformat_minor": 2
}
