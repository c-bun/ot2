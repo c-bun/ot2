{
 "cells": [
  {
   "cell_type": "code",
   "execution_count": 16,
   "metadata": {},
   "outputs": [
    {
     "name": "stdout",
     "output_type": "stream",
     "text": [
      "Read CSV:  [',to_pick,plate_number,row,column', '13,104,1,B,10', '28,104,1,C,2', '29,104,1,C,3', '32,104,1,C,6', '35,104,1,C,9', '40,104,1,D,2', '41,104,2,D,3', '42,104,3,D,6', '43,104,4,D,9']\n",
      "Transferring 10.0 from B10 of CELLTREAT 96 Well Plate 350 µL on 1 to A1 of Opentrons 24 Tube Rack with NEST 1.5 mL Snapcap on 11\n",
      "\tPicking up tip from A1 of Opentrons 96 Tip Rack 20 µL on 10\n",
      "\tAspirating 10.0 uL from B10 of CELLTREAT 96 Well Plate 350 µL on 1 at 7.56 uL/sec\n",
      "\tDispensing 10.0 uL into A1 of Opentrons 24 Tube Rack with NEST 1.5 mL Snapcap on 11 at 7.56 uL/sec\n",
      "\tDropping tip into A1 of Opentrons Fixed Trash on 12\n",
      "Transferring 10.0 from C2 of CELLTREAT 96 Well Plate 350 µL on 1 to A1 of Opentrons 24 Tube Rack with NEST 1.5 mL Snapcap on 11\n",
      "\tPicking up tip from B1 of Opentrons 96 Tip Rack 20 µL on 10\n",
      "\tAspirating 10.0 uL from C2 of CELLTREAT 96 Well Plate 350 µL on 1 at 7.56 uL/sec\n",
      "\tDispensing 10.0 uL into A1 of Opentrons 24 Tube Rack with NEST 1.5 mL Snapcap on 11 at 7.56 uL/sec\n",
      "\tDropping tip into A1 of Opentrons Fixed Trash on 12\n",
      "Transferring 10.0 from C3 of CELLTREAT 96 Well Plate 350 µL on 1 to A1 of Opentrons 24 Tube Rack with NEST 1.5 mL Snapcap on 11\n",
      "\tPicking up tip from C1 of Opentrons 96 Tip Rack 20 µL on 10\n",
      "\tAspirating 10.0 uL from C3 of CELLTREAT 96 Well Plate 350 µL on 1 at 7.56 uL/sec\n",
      "\tDispensing 10.0 uL into A1 of Opentrons 24 Tube Rack with NEST 1.5 mL Snapcap on 11 at 7.56 uL/sec\n",
      "\tDropping tip into A1 of Opentrons Fixed Trash on 12\n",
      "Transferring 10.0 from C6 of CELLTREAT 96 Well Plate 350 µL on 1 to A1 of Opentrons 24 Tube Rack with NEST 1.5 mL Snapcap on 11\n",
      "\tPicking up tip from D1 of Opentrons 96 Tip Rack 20 µL on 10\n",
      "\tAspirating 10.0 uL from C6 of CELLTREAT 96 Well Plate 350 µL on 1 at 7.56 uL/sec\n",
      "\tDispensing 10.0 uL into A1 of Opentrons 24 Tube Rack with NEST 1.5 mL Snapcap on 11 at 7.56 uL/sec\n",
      "\tDropping tip into A1 of Opentrons Fixed Trash on 12\n",
      "Transferring 10.0 from C9 of CELLTREAT 96 Well Plate 350 µL on 1 to A1 of Opentrons 24 Tube Rack with NEST 1.5 mL Snapcap on 11\n",
      "\tPicking up tip from E1 of Opentrons 96 Tip Rack 20 µL on 10\n",
      "\tAspirating 10.0 uL from C9 of CELLTREAT 96 Well Plate 350 µL on 1 at 7.56 uL/sec\n",
      "\tDispensing 10.0 uL into A1 of Opentrons 24 Tube Rack with NEST 1.5 mL Snapcap on 11 at 7.56 uL/sec\n",
      "\tDropping tip into A1 of Opentrons Fixed Trash on 12\n",
      "Transferring 10.0 from D2 of CELLTREAT 96 Well Plate 350 µL on 1 to A1 of Opentrons 24 Tube Rack with NEST 1.5 mL Snapcap on 11\n",
      "\tPicking up tip from F1 of Opentrons 96 Tip Rack 20 µL on 10\n",
      "\tAspirating 10.0 uL from D2 of CELLTREAT 96 Well Plate 350 µL on 1 at 7.56 uL/sec\n",
      "\tDispensing 10.0 uL into A1 of Opentrons 24 Tube Rack with NEST 1.5 mL Snapcap on 11 at 7.56 uL/sec\n",
      "\tDropping tip into A1 of Opentrons Fixed Trash on 12\n",
      "Transferring 10.0 from D3 of CELLTREAT 96 Well Plate 350 µL on 2 to A1 of Opentrons 24 Tube Rack with NEST 1.5 mL Snapcap on 11\n",
      "\tPicking up tip from G1 of Opentrons 96 Tip Rack 20 µL on 10\n",
      "\tAspirating 10.0 uL from D3 of CELLTREAT 96 Well Plate 350 µL on 2 at 7.56 uL/sec\n",
      "\tDispensing 10.0 uL into A1 of Opentrons 24 Tube Rack with NEST 1.5 mL Snapcap on 11 at 7.56 uL/sec\n",
      "\tDropping tip into A1 of Opentrons Fixed Trash on 12\n",
      "Transferring 10.0 from D6 of CELLTREAT 96 Well Plate 350 µL on 3 to A1 of Opentrons 24 Tube Rack with NEST 1.5 mL Snapcap on 11\n",
      "\tPicking up tip from H1 of Opentrons 96 Tip Rack 20 µL on 10\n",
      "\tAspirating 10.0 uL from D6 of CELLTREAT 96 Well Plate 350 µL on 3 at 7.56 uL/sec\n",
      "\tDispensing 10.0 uL into A1 of Opentrons 24 Tube Rack with NEST 1.5 mL Snapcap on 11 at 7.56 uL/sec\n",
      "\tDropping tip into A1 of Opentrons Fixed Trash on 12\n",
      "Transferring 10.0 from D9 of CELLTREAT 96 Well Plate 350 µL on 4 to A1 of Opentrons 24 Tube Rack with NEST 1.5 mL Snapcap on 11\n",
      "\tPicking up tip from A2 of Opentrons 96 Tip Rack 20 µL on 10\n",
      "\tAspirating 10.0 uL from D9 of CELLTREAT 96 Well Plate 350 µL on 4 at 7.56 uL/sec\n",
      "\tDispensing 10.0 uL into A1 of Opentrons 24 Tube Rack with NEST 1.5 mL Snapcap on 11 at 7.56 uL/sec\n",
      "\tDropping tip into A1 of Opentrons Fixed Trash on 12\n"
     ]
    }
   ],
   "source": [
    "from opentrons.simulate import simulate, format_runlog\n",
    "from collections import Counter\n",
    "\n",
    "log, _bundle = simulate(open(\"../ot2/cherry_pick.py\"))\n",
    "#print(Counter(format_runlog(log).split(\" \"))['Picking'])\n",
    "print(format_runlog(log))\n"
   ]
  },
  {
   "cell_type": "code",
   "execution_count": null,
   "metadata": {},
   "outputs": [],
   "source": []
  }
 ],
 "metadata": {
  "interpreter": {
   "hash": "f4fa40d9441a23eb44e49822149c66233a1f9a39703445772420ec0399fb88ec"
  },
  "kernelspec": {
   "display_name": "Python 3.8.5 ('ot2-Sl_yvcit-py3.8')",
   "language": "python",
   "name": "python3"
  },
  "language_info": {
   "codemirror_mode": {
    "name": "ipython",
    "version": 3
   },
   "file_extension": ".py",
   "mimetype": "text/x-python",
   "name": "python",
   "nbconvert_exporter": "python",
   "pygments_lexer": "ipython3",
   "version": "3.8.5"
  },
  "orig_nbformat": 4
 },
 "nbformat": 4,
 "nbformat_minor": 2
}
