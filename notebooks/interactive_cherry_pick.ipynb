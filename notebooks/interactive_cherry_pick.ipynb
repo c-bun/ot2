{
 "cells": [
  {
   "attachments": {},
   "cell_type": "markdown",
   "metadata": {},
   "source": [
    "## Cherry picking protocol to run in the OT2 jupyter notebook\n",
    "\n",
    "- make choosing labware and locations interactive\n",
    "- import only requires xls file(s) from plate reader\n",
    "- plots histogram and allows choice of threshold"
   ]
  },
  {
   "cell_type": "code",
   "execution_count": null,
   "metadata": {},
   "outputs": [],
   "source": [
    "# imports\n",
    "import opentrons.execute\n",
    "from opentrons import simulate\n",
    "from matplotlib import pyplot as plt\n",
    "import pandas as pd\n",
    "import numpy as np\n"
   ]
  },
  {
   "attachments": {},
   "cell_type": "markdown",
   "metadata": {},
   "source": [
    "Set the options for the protocol below, then run the next two cells to take a look at your cherries."
   ]
  },
  {
   "cell_type": "code",
   "execution_count": null,
   "metadata": {},
   "outputs": [],
   "source": [
    "# protocol options\n",
    "TESTING = True\n",
    "CHERRIES_XLS = \"cherry_pick_test.xls\" # this should be the name of the excel file in the same directory as this script\n",
    "CHERRY_PICK_AMOUNT = 5 # uL\n",
    "FORMAT = 384 # 96 or 384"
   ]
  },
  {
   "cell_type": "code",
   "execution_count": null,
   "metadata": {},
   "outputs": [],
   "source": [
    "# in here we should analyze the excel file and determine the cherries that we need to pick\n",
    "\n",
    "# from screentools: this will only work for 384 well plates\n",
    "def importPlates(\n",
    "    xls_path: Str,\n",
    "    plate_list: list,\n",
    "    peptide_list: list,\n",
    "    plate_format: int = 384,\n",
    "    positive_controls: list = [\"A1\", \"B1\", \"C1\"],\n",
    "    negative_controls: list = [\"D1\", \"E1\", \"F1\"],\n",
    "):\n",
    "    \"\"\"\n",
    "    If 384, import plate from single excel sheet, if 96, import an excel file with individual plates as sheets.\n",
    "    \"\"\"\n",
    "    print(\"importing: \", xls_path)\n",
    "    if plate_format == 384:\n",
    "        # upper_left_location = (50, 2) # these should be right if the plate reader saved correctly\n",
    "        upper_left_location = (52, 2) # these should be right if the plate reader saved correctly\n",
    "        lower_right_location = (67, 25)\n",
    "\n",
    "        df = pd.read_excel(xls_path)\n",
    "        plate_df = df.iloc[\n",
    "            upper_left_location[0] - 1 : lower_right_location[0],\n",
    "            upper_left_location[1] : lower_right_location[1] + 1,\n",
    "        ] # this is the dataframe of the plate with the shape (16, 24)\n",
    "\n",
    "        plates = parsePlate384(plate_df, plate_list, peptide_list, positive_controls=positive_controls, negative_controls=negative_controls) # this should reshape the plate into a list of 384 wells\n",
    "\n",
    "        return plates\n",
    "\n",
    "    elif plate_format == 96:\n",
    "        upper_left_location = (42, 2)\n",
    "        lower_right_location = (49, 13)\n",
    "        plates = []\n",
    "\n",
    "        for i, plate_name in enumerate(plate_list):\n",
    "            df = pd.read_excel(xls_path, sheet_name=i)\n",
    "            plate_df = df.iloc[\n",
    "                upper_left_location[0] - 1 : lower_right_location[0],\n",
    "                upper_left_location[1] : lower_right_location[1] + 1,\n",
    "            ]\n",
    "\n",
    "            plate = parsePlate(plate_df)\n",
    "            plate[\"plate_number\"] = plate_name\n",
    "            plate[\"peptide\"] = peptide_list[i]\n",
    "\n",
    "            plates.append(plate)\n",
    "\n",
    "        return pd.concat(plates)\n",
    "\n",
    "def parsePlate384(plate_df, plate_list, peptide_list, positive_controls=['A1', 'B1', 'C1'], negative_controls=['D1', 'E1', 'F1']):\n",
    "    \"\"\"\n",
    "    Parses a 384 well plate. The first 12 columns are designated as plate 1 and\n",
    "    the last 12 columns are designated as plate 2. Alternating rows are designated\n",
    "    as substrate 1 and 2 respectively.\n",
    "    \"\"\"\n",
    "    # get the first 12 columns of plate_df. These contain plate 1.\n",
    "    plate_1 = plate_df.iloc[:, :12]\n",
    "    # get the last 12 columns of plate_df. These contain plate 2.\n",
    "    plate_2 = plate_df.iloc[:, 12:]\n",
    "    # get the first set of alternating rows of plate_1. These contain substrate 1.\n",
    "    plate_1_sub1 = plate_1.iloc[::2, :]\n",
    "    # get the second set of alternating rows of plate_1. These contain substrate 2.\n",
    "    plate_1_sub2 = plate_1.iloc[1::2, :]\n",
    "    # get the first set of alternating rows of plate_2. These contain substrate 1.\n",
    "    plate_2_sub1 = plate_2.iloc[::2, :]\n",
    "    # get the second set of alternating rows of plate_2. These contain substrate 2.\n",
    "    plate_2_sub2 = plate_2.iloc[1::2, :]\n",
    "\n",
    "    # parse each plate as a 96 well plate\n",
    "    plate_1_sub1 = parsePlate(plate_1_sub1)\n",
    "    plate_1_sub2 = parsePlate(plate_1_sub2)\n",
    "    plate_2_sub1 = parsePlate(plate_2_sub1)\n",
    "    plate_2_sub2 = parsePlate(plate_2_sub2)\n",
    "\n",
    "    # assign control wells to each plate\n",
    "    plate_1_sub1 = assignControls(plate_1_sub1, positive=positive_controls, negative=negative_controls)\n",
    "    plate_1_sub2 = assignControls(plate_1_sub2, positive=positive_controls, negative=negative_controls)\n",
    "    plate_2_sub1 = assignControls(plate_2_sub1, positive=positive_controls, negative=negative_controls)\n",
    "    plate_2_sub2 = assignControls(plate_2_sub2, positive=positive_controls, negative=negative_controls)\n",
    "\n",
    "    # add the plate number and peptide to each plate\n",
    "    plate_1_sub1[\"plate_number\"] = plate_list[0]\n",
    "    plate_1_sub1[\"peptide\"] = peptide_list[0]\n",
    "    plate_1_sub2[\"plate_number\"] = plate_list[0]\n",
    "    plate_1_sub2[\"peptide\"] = peptide_list[1]\n",
    "    plate_2_sub1[\"plate_number\"] = plate_list[1]\n",
    "    plate_2_sub1[\"peptide\"] = peptide_list[0]\n",
    "    plate_2_sub2[\"plate_number\"] = plate_list[1]\n",
    "    plate_2_sub2[\"peptide\"] = peptide_list[1]\n",
    "    \n",
    "\n",
    "    # # now expand the plates into a list of wells\n",
    "    # plate_1_sub1 = expandPlate(plate_1_sub1, plate_list[0], peptide_list[0])\n",
    "    # plate_1_sub2 = expandPlate(plate_1_sub2, plate_list[0], peptide_list[1])\n",
    "    # plate_2_sub1 = expandPlate(plate_2_sub1, plate_list[1], peptide_list[0])\n",
    "    # plate_2_sub2 = expandPlate(plate_2_sub2, plate_list[1], peptide_list[1])\n",
    "\n",
    "    # concatenate the plates into a single dataframe\n",
    "    plate_df = pd.concat([plate_1_sub1, plate_1_sub2, plate_2_sub1, plate_2_sub2])\n",
    "\n",
    "    return plate_df\n",
    "    \n",
    "cherries = importPlates(CHERRIES_XLS, [\"A\"], [\"peptide1\"], plate_format=FORMAT)"
   ]
  },
  {
   "cell_type": "code",
   "execution_count": 3,
   "metadata": {},
   "outputs": [
    {
     "name": "stderr",
     "output_type": "stream",
     "text": [
      "/Users/rathbunc/.opentrons/robot_settings.json not found. Loading defaults\n",
      "/Users/rathbunc/.opentrons/deck_calibration.json not found. Loading defaults\n"
     ]
    }
   ],
   "source": [
    "if TESTING:\n",
    "    protocol = simulate.get_protocol_api('2.12')\n",
    "else:\n",
    "    protocol = opentrons.execute.get_protocol_api('2.12')\n",
    "\n",
    "# Error to raise if there are setup issues.\n",
    "class SetupError(Exception):\n",
    "    pass\n",
    "\n",
    "# labware\n",
    "# first load cherry plate\n",
    "if FORMAT == 96:\n",
    "    # initially this will be unsupported\n",
    "    raise SetupError(\"96 well plates are not yet supported\")\n",
    "elif FORMAT == 384:\n",
    "    cherry_plate = protocol.load_labware('grenierbioone_384_wellplate_138ul', 1)\n",
    "\n",
    "# load cherry destinations"
   ]
  },
  {
   "cell_type": "code",
   "execution_count": null,
   "metadata": {},
   "outputs": [],
   "source": []
  }
 ],
 "metadata": {
  "kernelspec": {
   "display_name": "ot2-Sl_yvcit-py3.8",
   "language": "python",
   "name": "python3"
  },
  "language_info": {
   "codemirror_mode": {
    "name": "ipython",
    "version": 3
   },
   "file_extension": ".py",
   "mimetype": "text/x-python",
   "name": "python",
   "nbconvert_exporter": "python",
   "pygments_lexer": "ipython3",
   "version": "3.8.15"
  },
  "orig_nbformat": 4
 },
 "nbformat": 4,
 "nbformat_minor": 2
}
